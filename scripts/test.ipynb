{
 "cells": [
  {
   "cell_type": "code",
   "execution_count": 1,
   "metadata": {
    "ExecuteTime": {
     "end_time": "2020-11-17T13:23:27.201865Z",
     "start_time": "2020-11-17T13:23:24.922679Z"
    }
   },
   "outputs": [],
   "source": [
    "%load_ext autoreload\n",
    "%autoreload 2\n",
    "\n",
    "import sscmap"
   ]
  },
  {
   "cell_type": "code",
   "execution_count": 2,
   "metadata": {
    "ExecuteTime": {
     "end_time": "2020-11-17T07:41:10.780505Z",
     "start_time": "2020-11-17T07:41:05.743745Z"
    }
   },
   "outputs": [],
   "source": [
    "meta = RecordMeta(doi=\"10.1016/j.cell.2018.08.039\")"
   ]
  },
  {
   "cell_type": "code",
   "execution_count": 3,
   "metadata": {
    "ExecuteTime": {
     "end_time": "2020-11-17T07:41:10.793046Z",
     "start_time": "2020-11-17T07:41:10.782195Z"
    }
   },
   "outputs": [],
   "source": [
    "meta.set(\n",
    "    technology=\"MIBI\",\n",
    "    species=\"human\",\n",
    "    tissue=\"breast\",\n",
    "    disease=\"cancer\",\n",
    "    disease_subtype=\"breast cancer\",)"
   ]
  }
 ],
 "metadata": {
  "kernelspec": {
   "display_name": "Python 3",
   "language": "python",
   "name": "python3"
  },
  "language_info": {
   "codemirror_mode": {
    "name": "ipython",
    "version": 3
   },
   "file_extension": ".py",
   "mimetype": "text/x-python",
   "name": "python",
   "nbconvert_exporter": "python",
   "pygments_lexer": "ipython3",
   "version": "3.8.0"
  },
  "toc": {
   "base_numbering": 1,
   "nav_menu": {},
   "number_sections": true,
   "sideBar": true,
   "skip_h1_title": false,
   "title_cell": "Table of Contents",
   "title_sidebar": "Contents",
   "toc_cell": false,
   "toc_position": {},
   "toc_section_display": true,
   "toc_window_display": false
  }
 },
 "nbformat": 4,
 "nbformat_minor": 4
}
